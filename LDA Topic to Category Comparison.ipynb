{
 "cells": [
  {
   "cell_type": "markdown",
   "metadata": {},
   "source": [
    "# Topic Comparison\n",
    "\n",
    "Compares LDA topics to manual categorization"
   ]
  },
  {
   "cell_type": "markdown",
   "metadata": {},
   "source": [
    "# Imports"
   ]
  },
  {
   "cell_type": "code",
   "execution_count": 1,
   "metadata": {},
   "outputs": [],
   "source": [
    "%matplotlib notebook\n",
    "from collections import defaultdict\n",
    "\n",
    "import numpy as np \n",
    "import matplotlib.pyplot as plt\n",
    "from ipywidgets import interact, fixed\n",
    "\n",
    "from sklearn.externals import joblib\n",
    "from nltk.probability import FreqDist\n",
    "\n",
    "import warnings\n",
    "warnings.filterwarnings('ignore')"
   ]
  },
  {
   "cell_type": "markdown",
   "metadata": {},
   "source": [
    "# Read in saved model data"
   ]
  },
  {
   "cell_type": "code",
   "execution_count": 2,
   "metadata": {},
   "outputs": [],
   "source": [
    "data = joblib.load('lda_tf_review.joblib')\n",
    "list(data.keys())\n",
    "\n",
    "model = data[\"model\"]\n",
    "dtm = data[\"dtm\"]\n",
    "tf_vectorizer = data[\"vectorizer\"]\n",
    "docs = data[\"docs\"]"
   ]
  },
  {
   "cell_type": "markdown",
   "metadata": {},
   "source": [
    "# Find predictions for training data"
   ]
  },
  {
   "cell_type": "code",
   "execution_count": 3,
   "metadata": {
    "scrolled": false
   },
   "outputs": [
    {
     "data": {
      "text/plain": [
       "((3872,), 3872)"
      ]
     },
     "execution_count": 3,
     "metadata": {},
     "output_type": "execute_result"
    }
   ],
   "source": [
    "predictions = np.argmax(model.transform(dtm), axis=1)\n",
    "predictions.shape, len(docs)"
   ]
  },
  {
   "cell_type": "markdown",
   "metadata": {},
   "source": [
    "# Analyze Findings"
   ]
  },
  {
   "cell_type": "markdown",
   "metadata": {},
   "source": [
    "Count labels per topic and vice versa."
   ]
  },
  {
   "cell_type": "code",
   "execution_count": 4,
   "metadata": {},
   "outputs": [],
   "source": [
    "report_label2topic = defaultdict(list)\n",
    "report_topic2label = defaultdict(list)\n",
    "\n",
    "for idx, d in enumerate(docs):\n",
    "    d[\"prediction\"] = predictions[idx]\n",
    "    report_label2topic[d[\"Label\"]].append(d[\"prediction\"])\n",
    "    report_topic2label[d[\"prediction\"]].append(d[\"Label\"]) \n",
    "    \n",
    "label2topic = {}\n",
    "for k, v in report_label2topic.items():\n",
    "    label2topic[k] = FreqDist(v)\n",
    "\n",
    "topic2label = {}\n",
    "for k, v in report_topic2label.items():\n",
    "    topic2label[k] = FreqDist(v)"
   ]
  },
  {
   "cell_type": "markdown",
   "metadata": {},
   "source": [
    "## Plot Labels found in Topic"
   ]
  },
  {
   "cell_type": "code",
   "execution_count": 5,
   "metadata": {
    "scrolled": false
   },
   "outputs": [
    {
     "data": {
      "application/vnd.jupyter.widget-view+json": {
       "model_id": "12e17ef1928c4b43ad0ff79e4b1a9302",
       "version_major": 2,
       "version_minor": 0
      },
      "text/html": [
       "<p>Failed to display Jupyter Widget of type <code>interactive</code>.</p>\n",
       "<p>\n",
       "  If you're reading this message in the Jupyter Notebook or JupyterLab Notebook, it may mean\n",
       "  that the widgets JavaScript is still loading. If this message persists, it\n",
       "  likely means that the widgets JavaScript library is either not installed or\n",
       "  not enabled. See the <a href=\"https://ipywidgets.readthedocs.io/en/stable/user_install.html\">Jupyter\n",
       "  Widgets Documentation</a> for setup instructions.\n",
       "</p>\n",
       "<p>\n",
       "  If you're reading this message in another frontend (for example, a static\n",
       "  rendering on GitHub or <a href=\"https://nbviewer.jupyter.org/\">NBViewer</a>),\n",
       "  it may mean that your frontend doesn't currently support widgets.\n",
       "</p>\n"
      ],
      "text/plain": [
       "interactive(children=(Dropdown(description='topic', options=(0, 2, 3, 4, 5, 6, 7, 10, 11, 13, 14, 15, 16, 17, 18, 19, 20, 21, 22, 23, 24, 25, 26, 27, 28, 29, 31, 32, 33, 34, 35, 36, 37, 38, 39), value=0), Output()), _dom_classes=('widget-interact',))"
      ]
     },
     "metadata": {},
     "output_type": "display_data"
    }
   ],
   "source": [
    "def topic_viz(freqdist, topic):\n",
    "    fix, ax = plt.subplots(figsize=(8,6))\n",
    "    ax.set_xlabel(\"Labels\")\n",
    "    ax.set_ylabel(\"count\")\n",
    "    ax.set_title(\"Labels in Topic {} ({} documents)\".format(topic, sum(freqdist[topic].values())))    \n",
    "    ax.bar(freqdist[topic].keys(), freqdist[topic].values())\n",
    "    \n",
    "    plt.tick_params(axis='x', which='major', labelsize=7)\n",
    "    plt.xticks(rotation=80)\n",
    "    plt.tight_layout()\n",
    "\n",
    "\n",
    "_ = interact(topic_viz, freqdist=fixed(topic2label), topic=sorted(topic2label.keys()))"
   ]
  },
  {
   "cell_type": "markdown",
   "metadata": {},
   "source": [
    "## Plot Topics found in Label"
   ]
  },
  {
   "cell_type": "code",
   "execution_count": 7,
   "metadata": {},
   "outputs": [
    {
     "data": {
      "application/vnd.jupyter.widget-view+json": {
       "model_id": "56e85fb46d334c11bfd20812c18ea4ed",
       "version_major": 2,
       "version_minor": 0
      },
      "text/html": [
       "<p>Failed to display Jupyter Widget of type <code>interactive</code>.</p>\n",
       "<p>\n",
       "  If you're reading this message in the Jupyter Notebook or JupyterLab Notebook, it may mean\n",
       "  that the widgets JavaScript is still loading. If this message persists, it\n",
       "  likely means that the widgets JavaScript library is either not installed or\n",
       "  not enabled. See the <a href=\"https://ipywidgets.readthedocs.io/en/stable/user_install.html\">Jupyter\n",
       "  Widgets Documentation</a> for setup instructions.\n",
       "</p>\n",
       "<p>\n",
       "  If you're reading this message in another frontend (for example, a static\n",
       "  rendering on GitHub or <a href=\"https://nbviewer.jupyter.org/\">NBViewer</a>),\n",
       "  it may mean that your frontend doesn't currently support widgets.\n",
       "</p>\n"
      ],
      "text/plain": [
       "interactive(children=(Dropdown(description='label', options=('Alarms', 'Angles', 'Angular Stability', 'Cyber Security', 'Data Quality', 'Dynamic Stability', 'Dynamic State Estimation', 'Economics', 'Energy Storage', 'Equipment Health', 'Event Analysis', 'Event Classification', 'Event Detection', 'Excitation Systems', 'Fault Analysis', 'GMD', 'Generator Model Validation', 'Generator Parameter Identification', 'Inertial Estimation', 'Islanding Detection', 'Load Modeling', 'Load Shedding', 'Measurement Techniques', 'Measurement Techniques, Awesome', 'Oscillations', 'Planning', 'Power Quality', 'Safety', 'Small Signal Stability', 'Stability', 'State EStimation', 'State Estimation', 'System Restoration', 'Testing', 'Time Synchronization', 'Topology Identification', 'Transient Stability', 'Visualization', 'Voltage Stability'), value='Alarms'), Output()), _dom_classes=('widget-interact',))"
      ]
     },
     "metadata": {},
     "output_type": "display_data"
    }
   ],
   "source": [
    "def label_viz(freqdist, label):\n",
    "    fix, ax = plt.subplots(figsize=(8,6))\n",
    "    ax.set_xlabel(\"Topics\")\n",
    "    ax.set_ylabel(\"count\")\n",
    "    ax.set_title(\"Topics in {} ({} topics)\".format(label, sum(freqdist[label].values())))    \n",
    "    ax.bar(freqdist[label].keys(), freqdist[label].values())\n",
    "    \n",
    "    plt.tick_params(axis='x', which='major', labelsize=7)\n",
    "    plt.xticks(np.arange(0, 40, 1), rotation=80)\n",
    "    plt.tight_layout()\n",
    "\n",
    "\n",
    "_ = interact(label_viz, freqdist=fixed(label2topic), label=sorted(label2topic.keys()))"
   ]
  },
  {
   "cell_type": "code",
   "execution_count": null,
   "metadata": {},
   "outputs": [],
   "source": []
  }
 ],
 "metadata": {
  "kernelspec": {
   "display_name": "Python 3",
   "language": "python",
   "name": "python3"
  },
  "language_info": {
   "codemirror_mode": {
    "name": "ipython",
    "version": 3
   },
   "file_extension": ".py",
   "mimetype": "text/x-python",
   "name": "python",
   "nbconvert_exporter": "python",
   "pygments_lexer": "ipython3",
   "version": "3.6.2"
  }
 },
 "nbformat": 4,
 "nbformat_minor": 2
}
