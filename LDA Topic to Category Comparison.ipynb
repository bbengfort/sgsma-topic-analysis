{
 "cells": [
  {
   "cell_type": "markdown",
   "metadata": {},
   "source": [
    "# Topic Comparison\n",
    "\n",
    "Compares LDA topics to manual categorization"
   ]
  },
  {
   "cell_type": "markdown",
   "metadata": {},
   "source": [
    "# Imports"
   ]
  },
  {
   "cell_type": "code",
   "execution_count": 1,
   "metadata": {},
   "outputs": [],
   "source": [
    "%matplotlib notebook\n",
    "from collections import defaultdict\n",
    "\n",
    "import numpy as np \n",
    "import matplotlib.pyplot as plt\n",
    "from ipywidgets import interact, fixed\n",
    "\n",
    "from sklearn.externals import joblib\n",
    "from nltk.probability import FreqDist\n",
    "\n",
    "import warnings\n",
    "warnings.filterwarnings('ignore')"
   ]
  },
  {
   "cell_type": "markdown",
   "metadata": {},
   "source": [
    "# Read in saved model data"
   ]
  },
  {
   "cell_type": "code",
   "execution_count": 2,
   "metadata": {},
   "outputs": [],
   "source": [
    "data = joblib.load('lda_tf_review.joblib')\n",
    "list(data.keys())\n",
    "\n",
    "model = data[\"model\"]\n",
    "dtm = data[\"dtm\"]\n",
    "tf_vectorizer = data[\"vectorizer\"]\n",
    "docs = data[\"docs\"]"
   ]
  },
  {
   "cell_type": "markdown",
   "metadata": {},
   "source": [
    "# Find predictions for training data"
   ]
  },
  {
   "cell_type": "code",
   "execution_count": 3,
   "metadata": {
    "scrolled": false
   },
   "outputs": [
    {
     "data": {
      "text/plain": [
       "((6413,), 6413)"
      ]
     },
     "execution_count": 3,
     "metadata": {},
     "output_type": "execute_result"
    }
   ],
   "source": [
    "predictions = np.argmax(model.transform(dtm), axis=1)\n",
    "predictions.shape, len(docs)"
   ]
  },
  {
   "cell_type": "markdown",
   "metadata": {},
   "source": [
    "# Analyze Findings"
   ]
  },
  {
   "cell_type": "markdown",
   "metadata": {},
   "source": [
    "Count labels per topic and vice versa."
   ]
  },
  {
   "cell_type": "code",
   "execution_count": 4,
   "metadata": {},
   "outputs": [],
   "source": [
    "report_label2topic = defaultdict(list)\n",
    "report_topic2label = defaultdict(list)\n",
    "\n",
    "for idx, d in enumerate(docs):\n",
    "    d[\"prediction\"] = predictions[idx]\n",
    "    report_label2topic[d[\"Label\"]].append(d[\"prediction\"])\n",
    "    report_topic2label[d[\"prediction\"]].append(d[\"Label\"]) \n",
    "    \n",
    "label2topic = {}\n",
    "for k, v in report_label2topic.items():\n",
    "    label2topic[k] = FreqDist(v)\n",
    "\n",
    "topic2label = {}\n",
    "for k, v in report_topic2label.items():\n",
    "    topic2label[k] = FreqDist(v)"
   ]
  },
  {
   "cell_type": "markdown",
   "metadata": {},
   "source": [
    "## Plot Labels found in Topic"
   ]
  },
  {
   "cell_type": "code",
   "execution_count": 5,
   "metadata": {
    "scrolled": false
   },
   "outputs": [
    {
     "data": {
      "application/vnd.jupyter.widget-view+json": {
       "model_id": "ab79b290fe664b959d490748b78a4b70",
       "version_major": 2,
       "version_minor": 0
      },
      "text/plain": [
       "interactive(children=(Dropdown(description='topic', options=(0, 1, 2, 3, 4, 5, 6, 7, 8, 9, 10, 11, 12, 13, 14,…"
      ]
     },
     "metadata": {},
     "output_type": "display_data"
    }
   ],
   "source": [
    "def topic_viz(freqdist, topic):\n",
    "    fix, ax = plt.subplots(figsize=(8,6))\n",
    "    ax.set_xlabel(\"Labels\")\n",
    "    ax.set_ylabel(\"count\")\n",
    "    ax.set_title(\"Labels in Topic {} ({} documents)\".format(topic, sum(freqdist[topic].values())))    \n",
    "    ax.bar(freqdist[topic].keys(), freqdist[topic].values())\n",
    "    \n",
    "    plt.tick_params(axis='x', which='major', labelsize=7)\n",
    "    plt.xticks(rotation=80)\n",
    "    plt.tight_layout()\n",
    "\n",
    "\n",
    "_ = interact(topic_viz, freqdist=fixed(topic2label), topic=sorted(topic2label.keys()))"
   ]
  },
  {
   "cell_type": "markdown",
   "metadata": {},
   "source": [
    "## Plot Topics found in Label"
   ]
  },
  {
   "cell_type": "code",
   "execution_count": 6,
   "metadata": {},
   "outputs": [
    {
     "data": {
      "application/vnd.jupyter.widget-view+json": {
       "model_id": "0a2884e2e53c4b56bff71f6d13266b41",
       "version_major": 2,
       "version_minor": 0
      },
      "text/plain": [
       "interactive(children=(Dropdown(description='label', options=('Alarms', 'Angles', 'Angular Stability', 'Communi…"
      ]
     },
     "metadata": {},
     "output_type": "display_data"
    }
   ],
   "source": [
    "def label_viz(freqdist, label):\n",
    "    fix, ax = plt.subplots(figsize=(8,6))\n",
    "    ax.set_xlabel(\"Topics\")\n",
    "    ax.set_ylabel(\"count\")\n",
    "    ax.set_title(\"Topics in {} ({} topics)\".format(label, sum(freqdist[label].values())))    \n",
    "    ax.bar(freqdist[label].keys(), freqdist[label].values())\n",
    "    \n",
    "    plt.tick_params(axis='x', which='major', labelsize=7)\n",
    "    plt.xticks(np.arange(0, 50, 1), rotation=80)\n",
    "    plt.tight_layout()\n",
    "\n",
    "\n",
    "_ = interact(label_viz, freqdist=fixed(label2topic), label=sorted(label2topic.keys()))"
   ]
  },
  {
   "cell_type": "code",
   "execution_count": null,
   "metadata": {},
   "outputs": [],
   "source": []
  }
 ],
 "metadata": {
  "kernelspec": {
   "display_name": "cmsc723",
   "language": "python",
   "name": "cmsc723"
  },
  "language_info": {
   "codemirror_mode": {
    "name": "ipython",
    "version": 3
   },
   "file_extension": ".py",
   "mimetype": "text/x-python",
   "name": "python",
   "nbconvert_exporter": "python",
   "pygments_lexer": "ipython3",
   "version": "3.6.1"
  }
 },
 "nbformat": 4,
 "nbformat_minor": 2
}
