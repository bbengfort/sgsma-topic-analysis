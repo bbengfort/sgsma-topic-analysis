{
 "cells": [
  {
   "cell_type": "markdown",
   "metadata": {},
   "source": [
    "# Overview Classifier \n",
    "\n",
    "Used supervised machine learning to train a classifier based on the heuristic classes, then apply that classifier to the Overview topic. "
   ]
  },
  {
   "cell_type": "code",
   "execution_count": 7,
   "metadata": {},
   "outputs": [],
   "source": [
    "import csv\n",
    "\n",
    "import numpy as np "
   ]
  },
  {
   "cell_type": "markdown",
   "metadata": {},
   "source": [
    "## Document Loading "
   ]
  },
  {
   "cell_type": "code",
   "execution_count": 2,
   "metadata": {},
   "outputs": [
    {
     "name": "stdout",
     "output_type": "stream",
     "text": [
      "9734\n"
     ]
    }
   ],
   "source": [
    "doc_lookup = {}\n",
    "\n",
    "with open(\"data/lit-review-doc-metadata.csv\", \"r\") as f:\n",
    "    reader = csv.DictReader(f)\n",
    "    for row in reader:\n",
    "        doc_lookup[row[\"Document Title\"]] = row\n",
    "\n",
    "print(len(doc_lookup.keys()))"
   ]
  },
  {
   "cell_type": "code",
   "execution_count": 4,
   "metadata": {},
   "outputs": [
    {
     "name": "stdout",
     "output_type": "stream",
     "text": [
      "Missing docs: 296\n",
      "Filtered docs: 3872\n"
     ]
    }
   ],
   "source": [
    "def load_documents(path=\"data/lit-review-categories.csv\", ignore=()):\n",
    "    not_found = 0\n",
    "    with open(path) as f:\n",
    "        reader = csv.DictReader(f)\n",
    "        for row in reader:\n",
    "            if row[\"Document Title\"] in doc_lookup:\n",
    "                doc_lookup[row[\"Document Title\"]][\"Label\"] = row[\"Domain\"]\n",
    "            else:\n",
    "                not_found += 1\n",
    "\n",
    "    print(\"Missing docs: {}\".format(not_found))\n",
    "    \n",
    "    docs = [d for d in doc_lookup.values() if \"Label\" in d and d[\"Label\"] not in ignore] \n",
    "    print(\"Filtered docs: {}\".format(len(docs)))\n",
    "\n",
    "    return [d[\"Abstract\"] for d in docs], [d[\"Label\"] for d in docs]\n",
    "\n",
    "\n",
    "IGNORE = [\n",
    "    \"Exclude\",\n",
    "    \"Overview\",\n",
    "    \"PMU Placement\",\n",
    "    \"PMU\",\n",
    "    \"PDC\",\n",
    "    \"Unknown\",\n",
    "    \"Undefined\",\n",
    "    \"Control\",\n",
    "    \"Communications\",\n",
    "    \"Phasor Estimation\",\n",
    "    \"Simulation\",\n",
    "    \"Islanding\",\n",
    "    \"Time Synchronization\"\n",
    "    \"Testing\",\n",
    "    \"Real Time Operations\",\n",
    "    \"Tools\",\n",
    "    \"EMS\",\n",
    "    \"Standards\",\n",
    "    \"\",\n",
    "    \"Phasor estimation\",\n",
    "    \"Protection Systems\"\n",
    "]\n",
    "\n",
    "X, y = load_documents(ignore=IGNORE)"
   ]
  },
  {
   "cell_type": "markdown",
   "metadata": {},
   "source": [
    "## Modeling and Cross-Validation"
   ]
  },
  {
   "cell_type": "code",
   "execution_count": 16,
   "metadata": {},
   "outputs": [],
   "source": [
    "from sklearn.base import clone\n",
    "from sklearn.pipeline import Pipeline \n",
    "from sklearn.naive_bayes import MultinomialNB\n",
    "from sklearn.feature_extraction.text import TfidfVectorizer, CountVectorizer \n",
    "\n",
    "from sklearn.model_selection import cross_val_score\n",
    "\n",
    "no_features = 750\n",
    "\n",
    "tf_vec = CountVectorizer(\n",
    "    max_df=0.8, min_df=2, max_features=no_features, stop_words='english', ngram_range=(1,3)\n",
    ")\n",
    "\n",
    "tfidf_vec = TfidfVectorizer(**tf_vec.get_params())\n",
    "\n",
    "\n",
    "def make_pipeline(model, idf=False):\n",
    "    vec = tfidf_vec if idf else tf_vec \n",
    "    return Pipeline([\n",
    "        ('vec', clone(vec)),\n",
    "        ('clf', model), \n",
    "    ])"
   ]
  },
  {
   "cell_type": "code",
   "execution_count": 18,
   "metadata": {},
   "outputs": [
    {
     "name": "stderr",
     "output_type": "stream",
     "text": [
      "/Users/benjamin/.pyenv/versions/3.6.2/Python.framework/Versions/3.6/lib/python3.6/site-packages/sklearn/model_selection/_split.py:605: Warning: The least populated class in y has only 1 members, which is too few. The minimum number of members in any class cannot be less than n_splits=3.\n",
      "  % (min_groups, self.n_splits)), Warning)\n"
     ]
    },
    {
     "data": {
      "text/plain": [
       "0.5971256643774617"
      ]
     },
     "execution_count": 18,
     "metadata": {},
     "output_type": "execute_result"
    }
   ],
   "source": [
    "clf = make_pipeline(MultinomialNB())\n",
    "cross_val_score(clf, X, y).mean()"
   ]
  },
  {
   "cell_type": "code",
   "execution_count": 19,
   "metadata": {},
   "outputs": [
    {
     "name": "stderr",
     "output_type": "stream",
     "text": [
      "/Users/benjamin/.pyenv/versions/3.6.2/Python.framework/Versions/3.6/lib/python3.6/site-packages/sklearn/model_selection/_split.py:605: Warning: The least populated class in y has only 1 members, which is too few. The minimum number of members in any class cannot be less than n_splits=3.\n",
      "  % (min_groups, self.n_splits)), Warning)\n"
     ]
    },
    {
     "data": {
      "text/plain": [
       "0.5070241428417664"
      ]
     },
     "execution_count": 19,
     "metadata": {},
     "output_type": "execute_result"
    }
   ],
   "source": [
    "clf = make_pipeline(MultinomialNB(), idf=True)\n",
    "cross_val_score(clf, X, y).mean()"
   ]
  },
  {
   "cell_type": "code",
   "execution_count": 20,
   "metadata": {},
   "outputs": [
    {
     "name": "stderr",
     "output_type": "stream",
     "text": [
      "/Users/benjamin/.pyenv/versions/3.6.2/Python.framework/Versions/3.6/lib/python3.6/site-packages/sklearn/model_selection/_split.py:605: Warning: The least populated class in y has only 1 members, which is too few. The minimum number of members in any class cannot be less than n_splits=3.\n",
      "  % (min_groups, self.n_splits)), Warning)\n"
     ]
    },
    {
     "data": {
      "text/plain": [
       "0.5890884733759267"
      ]
     },
     "execution_count": 20,
     "metadata": {},
     "output_type": "execute_result"
    }
   ],
   "source": [
    "from sklearn.ensemble import GradientBoostingClassifier \n",
    "\n",
    "clf = make_pipeline(GradientBoostingClassifier(), idf=True)\n",
    "cross_val_score(clf, X, y).mean()"
   ]
  },
  {
   "cell_type": "code",
   "execution_count": 24,
   "metadata": {},
   "outputs": [
    {
     "name": "stderr",
     "output_type": "stream",
     "text": [
      "/Users/benjamin/.pyenv/versions/3.6.2/Python.framework/Versions/3.6/lib/python3.6/site-packages/sklearn/model_selection/_split.py:605: Warning: The least populated class in y has only 1 members, which is too few. The minimum number of members in any class cannot be less than n_splits=3.\n",
      "  % (min_groups, self.n_splits)), Warning)\n"
     ]
    },
    {
     "data": {
      "text/plain": [
       "0.6024274548186485"
      ]
     },
     "execution_count": 24,
     "metadata": {},
     "output_type": "execute_result"
    }
   ],
   "source": [
    "from sklearn.ensemble import GradientBoostingClassifier \n",
    "\n",
    "clf = make_pipeline(GradientBoostingClassifier(), idf=False)\n",
    "cross_val_score(clf, X, y).mean()"
   ]
  },
  {
   "cell_type": "code",
   "execution_count": 22,
   "metadata": {},
   "outputs": [
    {
     "name": "stderr",
     "output_type": "stream",
     "text": [
      "/Users/benjamin/.pyenv/versions/3.6.2/Python.framework/Versions/3.6/lib/python3.6/site-packages/sklearn/model_selection/_split.py:605: Warning: The least populated class in y has only 1 members, which is too few. The minimum number of members in any class cannot be less than n_splits=3.\n",
      "  % (min_groups, self.n_splits)), Warning)\n"
     ]
    },
    {
     "data": {
      "text/plain": [
       "0.610567577220215"
      ]
     },
     "execution_count": 22,
     "metadata": {},
     "output_type": "execute_result"
    }
   ],
   "source": [
    "from sklearn.linear_model import LogisticRegression\n",
    "\n",
    "clf = make_pipeline(LogisticRegression(), idf=True)\n",
    "cross_val_score(clf, X, y).mean()"
   ]
  },
  {
   "cell_type": "code",
   "execution_count": 23,
   "metadata": {},
   "outputs": [
    {
     "name": "stderr",
     "output_type": "stream",
     "text": [
      "/Users/benjamin/.pyenv/versions/3.6.2/Python.framework/Versions/3.6/lib/python3.6/site-packages/sklearn/model_selection/_split.py:605: Warning: The least populated class in y has only 1 members, which is too few. The minimum number of members in any class cannot be less than n_splits=3.\n",
      "  % (min_groups, self.n_splits)), Warning)\n"
     ]
    },
    {
     "data": {
      "text/plain": [
       "0.5765096422761253"
      ]
     },
     "execution_count": 23,
     "metadata": {},
     "output_type": "execute_result"
    }
   ],
   "source": [
    "from sklearn.linear_model import LogisticRegression\n",
    "\n",
    "clf = make_pipeline(LogisticRegression(), idf=False)\n",
    "cross_val_score(clf, X, y).mean()"
   ]
  },
  {
   "cell_type": "markdown",
   "metadata": {},
   "source": [
    "## Selected Model\n",
    "\n",
    "Currently selecting the TF-IDF LogisticRegression which had a simple cross-val scoe of 0.61"
   ]
  },
  {
   "cell_type": "code",
   "execution_count": 25,
   "metadata": {},
   "outputs": [
    {
     "data": {
      "text/plain": [
       "['maxent_tfidf_overview.joblib']"
      ]
     },
     "execution_count": 25,
     "metadata": {},
     "output_type": "execute_result"
    }
   ],
   "source": [
    "from sklearn.externals import joblib\n",
    "\n",
    "clf = make_pipeline(LogisticRegression(), idf=True)\n",
    "clf.fit(X, y)\n",
    "\n",
    "joblib.dump(clf, 'maxent_tfidf_overview.joblib') "
   ]
  },
  {
   "cell_type": "markdown",
   "metadata": {},
   "source": [
    "## Assign to Overview \n",
    "\n",
    "In this section, we assign the classes to the papers in the overview section. "
   ]
  },
  {
   "cell_type": "code",
   "execution_count": 33,
   "metadata": {},
   "outputs": [
    {
     "name": "stdout",
     "output_type": "stream",
     "text": [
      "Filtered docs: 730\n"
     ]
    }
   ],
   "source": [
    "def load_overview(path=\"data/lit-review-categories.csv\"):\n",
    "    with open(path) as f:\n",
    "        reader = csv.DictReader(f)\n",
    "        for row in reader:\n",
    "            if row[\"Document Title\"] in doc_lookup:\n",
    "                doc_lookup[row[\"Document Title\"]][\"Label\"] = row[\"Domain\"]\n",
    "    \n",
    "    docs = [d for d in doc_lookup.values() if \"Label\" in d and d[\"Label\"] == 'Overview'] \n",
    "    print(\"Filtered docs: {}\".format(len(docs)))\n",
    "\n",
    "    return docs\n",
    "\n",
    "\n",
    "overview = load_overview()"
   ]
  },
  {
   "cell_type": "code",
   "execution_count": 40,
   "metadata": {},
   "outputs": [],
   "source": [
    "def overview_info(idx=0):\n",
    "    X = [overview[idx]['Abstract']]\n",
    "    probs = dict(zip(clf.classes_, clf.predict_proba(X)[0]))\n",
    "    probs[\"Label\"] = clf.predict(X)[0]\n",
    "    probs[\"Document Title\"] = overview[idx][\"Document Title\"]\n",
    "    return probs\n",
    "\n",
    "\n",
    "with open('data/lit-overview-classified.csv', 'w') as f:\n",
    "    fields = ['Document Title', 'Label',] + list(clf.classes_)\n",
    "    writer = csv.DictWriter(f, fields)\n",
    "    writer.writeheader()\n",
    "    \n",
    "    for idx in range(len(overview)):\n",
    "        writer.writerow(overview_info(idx))"
   ]
  },
  {
   "cell_type": "markdown",
   "metadata": {},
   "source": [
    "## Analysis of Classification"
   ]
  },
  {
   "cell_type": "code",
   "execution_count": 42,
   "metadata": {},
   "outputs": [],
   "source": [
    "import pandas as pd \n",
    "import seaborn as sns \n",
    "import matplotlib.pyplot as plt \n",
    "\n",
    "overview = pd.read_csv('data/lit-overview-classified.csv')"
   ]
  },
  {
   "cell_type": "code",
   "execution_count": 47,
   "metadata": {},
   "outputs": [
    {
     "data": {
      "text/plain": [
       "Label\n",
       "Cyber Security              85\n",
       "Data Quality                16\n",
       "Dynamic Stability           15\n",
       "Economics                    8\n",
       "Equipment Health            11\n",
       "Event Analysis              11\n",
       "Event Detection              4\n",
       "Fault Analysis              12\n",
       "Inertial Estimation          1\n",
       "Load Shedding                2\n",
       "Measurement Techniques     340\n",
       "Oscillations                45\n",
       "Power Quality                6\n",
       "Stability                   29\n",
       "State Estimation            63\n",
       "Testing                      9\n",
       "Time Synchronization        11\n",
       "Topology Identification     40\n",
       "Transient Stability          2\n",
       "Visualization                2\n",
       "Voltage Stability           18\n",
       "Name: Label, dtype: int64"
      ]
     },
     "execution_count": 47,
     "metadata": {},
     "output_type": "execute_result"
    }
   ],
   "source": [
    "overview.groupby('Label')['Label'].count()"
   ]
  }
 ],
 "metadata": {
  "kernelspec": {
   "display_name": "Python 3",
   "language": "python",
   "name": "python3"
  },
  "language_info": {
   "codemirror_mode": {
    "name": "ipython",
    "version": 3
   },
   "file_extension": ".py",
   "mimetype": "text/x-python",
   "name": "python",
   "nbconvert_exporter": "python",
   "pygments_lexer": "ipython3",
   "version": "3.6.2"
  }
 },
 "nbformat": 4,
 "nbformat_minor": 2
}
